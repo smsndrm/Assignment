{
 "cells": [
  {
   "cell_type": "markdown",
   "metadata": {},
   "source": [
    "## Problem Statement"
   ]
  },
  {
   "cell_type": "markdown",
   "metadata": {},
   "source": [
    "Q.1 Write a Python Program to implement your own myreduce() function which works exactly like\n",
    "Python's built-in function reduce()\n"
   ]
  },
  {
   "cell_type": "code",
   "execution_count": 1,
   "metadata": {},
   "outputs": [
    {
     "name": "stdout",
     "output_type": "stream",
     "text": [
      "15\n",
      "15\n"
     ]
    }
   ],
   "source": [
    "#Reduce Function\n",
    "\n",
    "import functools\n",
    "list1 = [1,2,3,4,5]\n",
    "result = functools.reduce(lambda a,b:a+b,list1)\n",
    "print(result)\n",
    "\n",
    "#myreduce Function\n",
    "\n",
    "def myreduce(seq):\n",
    "    result1 = seq[0]\n",
    "    for i in seq[1:]:\n",
    "        result1 +=i\n",
    "    return result1\n",
    "print(myreduce(list1))\n",
    "    "
   ]
  },
  {
   "cell_type": "markdown",
   "metadata": {},
   "source": [
    "Q.2 Write a Python program to implement your own myfilter() function which works exactly like\n",
    "Python's built-in function filter()"
   ]
  },
  {
   "cell_type": "code",
   "execution_count": 2,
   "metadata": {},
   "outputs": [
    {
     "name": "stdout",
     "output_type": "stream",
     "text": [
      "[3, 6, 1, 2]\n",
      "[3, 6, 1, 2]\n"
     ]
    }
   ],
   "source": [
    "#reduce function\n",
    "\n",
    "import functools\n",
    "list1 = [-2,3,-5,6,0,1,2]\n",
    "result=filter(lambda a: a>0,list1)\n",
    "print(list(result))\n",
    "\n",
    "result1=[]\n",
    "def myreduce(list1):\n",
    " \n",
    "    for i in list1:\n",
    "        if i > 0:\n",
    "            result1.append(i)\n",
    "    return result1\n",
    "print(myreduce(list1))  "
   ]
  },
  {
   "cell_type": "markdown",
   "metadata": {},
   "source": [
    "Q.3 Implement List comprehensions to produce the following lists.\n",
    "   Write List comprehensions to produce the following Lists\n",
    "   \n",
    "    ['A', 'C', 'A', 'D', 'G', 'I', ’L’, ‘ D’]\n",
    "   \n",
    "    ['x', 'xx', 'xxx', 'xxxx', 'y', 'yy', 'yyy', 'yyyy', 'z', 'zz', 'zzz', 'zzzz']\n",
    "\n",
    "    ['x', 'y', 'z', 'xx', 'yy', 'zz', 'xx', 'yy', 'zz', 'xxxx', 'yyyy', 'zzzz']\n",
    "    \n",
    "    [[2], [3], [4], [3], [4], [5], [4], [5], [6]]\n",
    "\n",
    "    [[2, 3, 4, 5], [3, 4, 5, 6], [4, 5, 6, 7], [5, 6, 7, 8]]\n",
    "\n",
    "    [(1, 1), (2, 1), (3, 1), (1, 2), (2, 2), (3, 2), (1, 3), (2, 3), (3, 3)]"
   ]
  },
  {
   "cell_type": "code",
   "execution_count": 3,
   "metadata": {},
   "outputs": [
    {
     "name": "stdout",
     "output_type": "stream",
     "text": [
      "['A', 'C', 'A', 'D', 'G', 'I', 'L', 'D']\n",
      "['x', 'xx', 'xxx', 'xxxx', 'y', 'yy', 'yyy', 'yyyy', 'z', 'zz', 'zzz', 'zzzz']\n",
      "[[2], [3], [4], [3], [4], [5], [4], [5], [6]]\n",
      "[[2, 3, 4, 5], [3, 4, 5, 6], [4, 5, 6, 7]]\n",
      "[(1, 1), (2, 1), (3, 1), (1, 2), (2, 2), (3, 2), (1, 3), (2, 3), (3, 3)]\n"
     ]
    }
   ],
   "source": [
    "str1 = \"ACADGILD\"\n",
    "print([x for x in str1])\n",
    "str2 = \"xyz\"\n",
    "print([x*num for x in str2 for num in range(1,5)])\n",
    "lst1 = [2,3,4]\n",
    "print([[item + num] for item in lst1 for num in range(3)])\n",
    "lst2 = [2,3,4,5]\n",
    "print([[item + num for item in lst2] for num in range(3)])\n",
    "lst3 = [1,2,3]\n",
    "print([(b,a) for a in lst3 for b in range(1,4)])"
   ]
  },
  {
   "cell_type": "markdown",
   "metadata": {},
   "source": [
    "Q.4 Implement a function longestWord() that takes a list of words and returns the longest one."
   ]
  },
  {
   "cell_type": "code",
   "execution_count": 4,
   "metadata": {},
   "outputs": [
    {
     "name": "stdout",
     "output_type": "stream",
     "text": [
      "test1Backend\n"
     ]
    }
   ],
   "source": [
    "def longest_word(lst1):\n",
    "    str_max_len = 0\n",
    "    for str1 in lst1:\n",
    "        if len(str1) > str_max_len:\n",
    "            result = str1\n",
    "    return result\n",
    "print(longest_word([\"python\", \"somu\", \"test1Backend\"]))"
   ]
  },
  {
   "cell_type": "markdown",
   "metadata": {},
   "source": [
    "Q.5 Write a Python Program(with class concepts) to find the area of the triangle using the below\n",
    "formula.\n",
    "\n",
    "area = (s*(s-a)*(s-b)*(s-c)) ** 0.5\n",
    "\n",
    "Function to take the length of the sides of triangle from user should be defined in the parent\n",
    "class and function to calculate the area should be defined in subclass."
   ]
  },
  {
   "cell_type": "code",
   "execution_count": 5,
   "metadata": {},
   "outputs": [
    {
     "name": "stdout",
     "output_type": "stream",
     "text": [
      "6.0\n"
     ]
    }
   ],
   "source": [
    "class area_traingle:\n",
    "    def __init__(self,a,b,c):\n",
    "        self.a =a\n",
    "        self.b =b\n",
    "        self.c =c\n",
    "\n",
    "class area(area_traingle):\n",
    "    \n",
    "    def __init__(self,*args):\n",
    "        super(area,self).__init__(*args)\n",
    "\n",
    "    def find_area(self):    \n",
    "        s = (self.a+self.b+self.c) / 2\n",
    "        area = float(round((s*(s-self.a)*(s-self.b)*(s-self.c))**0.5,2))\n",
    "        return area\n",
    "        \n",
    "obj = area(3,4,5)\n",
    "print(obj.find_area())"
   ]
  },
  {
   "cell_type": "code",
   "execution_count": 6,
   "metadata": {},
   "outputs": [],
   "source": [
    "#class area_traingle:\n",
    "#    def __init__(self,a,b,c):\n",
    "#        self.a =a\n",
    "#        self.b =b\n",
    "#        self.c =c\n",
    "#\n",
    "#class area(area_traingle):\n",
    "#    \n",
    "#    def __init__(self,*args):\n",
    "#        super(area,self).__init__(*args)\n",
    "#\n",
    "#    def find_area(self):\n",
    "#        s = (self.a+self.b+self.c) / 3\n",
    "#        area = (s*(s-self.a)*(s-self.b)*(s-self.c)) ** 0.5\n",
    "#        return(area)\n",
    "#        \n",
    "#obj = area(3,4,5)\n",
    "#print(obj.find_area())"
   ]
  },
  {
   "cell_type": "markdown",
   "metadata": {},
   "source": [
    "Q.6 Write a function filter_long_words() that takes a list of words and an integer n and returns the list\n",
    "of words that are longer than n."
   ]
  },
  {
   "cell_type": "code",
   "execution_count": 7,
   "metadata": {},
   "outputs": [
    {
     "name": "stdout",
     "output_type": "stream",
     "text": [
      "['cde', 'erty']\n"
     ]
    }
   ],
   "source": [
    "def filter_long_words(str1,n):\n",
    "    result=[]\n",
    "    for i in str1:\n",
    "        if len(i) > n:\n",
    "            result.append(i)\n",
    "    return result\n",
    "print(filter_long_words(['ab','cde','erty'],2))    "
   ]
  },
  {
   "cell_type": "markdown",
   "metadata": {},
   "source": [
    "Q.7 Write a Python program using function concept that maps list of words into a list of integers\n",
    "representing the lengths of the corresponding words.\n",
    "    \n",
    "    Hint: If a list [ ab,cde,erty] is passed on to the python function output should come as [2,3,4]\n",
    "    Here 2,3 and 4 are the lengths of the words in the list."
   ]
  },
  {
   "cell_type": "code",
   "execution_count": 8,
   "metadata": {},
   "outputs": [
    {
     "name": "stdout",
     "output_type": "stream",
     "text": [
      "[2, 3, 4]\n"
     ]
    }
   ],
   "source": [
    "def len_of_words(str1):\n",
    "    a=[]\n",
    "    for i in str1:\n",
    "        a.append(len(i))\n",
    "    return(a)\n",
    "print(len_of_words(['ab','cde','erty']))"
   ]
  },
  {
   "cell_type": "markdown",
   "metadata": {},
   "source": [
    "Q.8 Write a Python function which takes a character (i.e. a string of length 1) and returns True if it is\n",
    "a vowel, False otherwise."
   ]
  },
  {
   "cell_type": "code",
   "execution_count": 9,
   "metadata": {},
   "outputs": [
    {
     "name": "stdout",
     "output_type": "stream",
     "text": [
      "False\n",
      "True\n"
     ]
    }
   ],
   "source": [
    "vowels = 'aeiou'\n",
    "#def vowels_chk(str1):\n",
    "#    return filter(lambda x: x in vowels,str1)\n",
    "#print(list(vowels_chk('aseewddf')))\n",
    "def vowel_chk(char):\n",
    "    return char in vowels\n",
    "print(vowel_chk('c'))\n",
    "print(vowel_chk('a'))"
   ]
  },
  {
   "cell_type": "markdown",
   "metadata": {},
   "source": [
    "## Great job!"
   ]
  }
 ],
 "metadata": {
  "kernelspec": {
   "display_name": "Python 3",
   "language": "python",
   "name": "python3"
  },
  "language_info": {
   "codemirror_mode": {
    "name": "ipython",
    "version": 3
   },
   "file_extension": ".py",
   "mimetype": "text/x-python",
   "name": "python",
   "nbconvert_exporter": "python",
   "pygments_lexer": "ipython3",
   "version": "3.7.3"
  }
 },
 "nbformat": 4,
 "nbformat_minor": 2
}
